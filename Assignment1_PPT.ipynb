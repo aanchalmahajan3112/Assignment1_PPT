{
  "nbformat": 4,
  "nbformat_minor": 0,
  "metadata": {
    "colab": {
      "provenance": []
    },
    "kernelspec": {
      "name": "python3",
      "display_name": "Python 3"
    },
    "language_info": {
      "name": "python"
    }
  },
  "cells": [
    {
      "cell_type": "code",
      "execution_count": 1,
      "metadata": {
        "colab": {
          "base_uri": "https://localhost:8080/"
        },
        "id": "0pwU2wOR3MUU",
        "outputId": "d78770c2-9d81-40e8-a623-d821ae82811b"
      },
      "outputs": [
        {
          "output_type": "stream",
          "name": "stdout",
          "text": [
            "[0, 1]\n"
          ]
        }
      ],
      "source": [
        "# 💡 **Q1.** Given an array of integers nums and an integer target, return indices of the two numbers such that they add up to target.\n",
        "\n",
        "# You may assume that each input would have exactly one solution, and you may not use the same element twice.\n",
        "\n",
        "# You can return the answer in any order.\n",
        "\n",
        "# **Example:**\n",
        "# Input: nums = [2,7,11,15], target = 9\n",
        "# Output0 [0,1]\n",
        "\n",
        "# **Explanation:** Because nums[0] + nums[1] == 9, we return [0, 1][\n",
        "\n",
        "\n",
        "\n",
        "def twoSum(nums, target):\n",
        "    # Create a dictionary to store the complement of each number and its index\n",
        "    complement_dict = {}\n",
        "\n",
        "    # Iterate through the array\n",
        "    for i in range(len(nums)):\n",
        "        # Check if the current number's complement exists in the dictionary\n",
        "        complement = target - nums[i]\n",
        "        if complement in complement_dict:\n",
        "            # If found, return the indices of the two numbers\n",
        "            return [complement_dict[complement], i]\n",
        "        else:\n",
        "            # Otherwise, store the current number and its index in the dictionary\n",
        "            complement_dict[nums[i]] = i\n",
        "\n",
        "    # If no solution is found, return an empty list or raise an exception\n",
        "    return []\n",
        "\n",
        "# Test the function\n",
        "nums = [2, 7, 11, 15]\n",
        "target = 9\n",
        "result = twoSum(nums, target)\n",
        "print(result)  \n"
      ]
    },
    {
      "cell_type": "code",
      "source": [
        "\n",
        "# 💡 **Q2.** Given an integer array nums and an integer val, remove all occurrences of val in nums in-place. The order of the elements may be changed. Then return the number of elements in nums which are not equal to val.\n",
        "\n",
        "# Consider the number of elements in nums which are not equal to val be k, to get accepted, you need to do the following things:\n",
        "\n",
        "# - Change the array nums such that the first k elements of nums contain the elements which are not equal to val. The remaining elements of nums are not important as well as the size of nums.\n",
        "# - Return k.\n",
        "\n",
        "# **Example :**\n",
        "# Input: nums = [3,2,2,3], val = 3\n",
        "# Output: 2, nums = [2,2,_*,_*]\n",
        "\n",
        "# **Explanation:** Your function should return k = 2, with the first two elements of nums being 2. It does not matter what you leave beyond the returned k (hence they are underscores)[\n",
        "\n",
        "\n",
        "def removeElement(nums, val):\n",
        "    # Initialize two pointers, one at the beginning and one at the end of the array\n",
        "    left = 0\n",
        "    right = len(nums) - 1\n",
        "\n",
        "    # Iterate until the pointers meet or cross each other\n",
        "    while left <= right:\n",
        "        # If the current element is equal to the value to be removed,\n",
        "        # replace it with the element at the right pointer\n",
        "        if nums[left] == val:\n",
        "            nums[left] = nums[right]\n",
        "            right -= 1\n",
        "        else:\n",
        "            left += 1\n",
        "\n",
        "    # Return the count of elements that are not equal to the value\n",
        "    return left\n",
        "\n",
        "# Test the function\n",
        "nums = [3, 2, 2, 3]\n",
        "val = 3\n",
        "result = removeElement(nums, val)\n",
        "print(result)  \n",
        "print(nums)  \n"
      ],
      "metadata": {
        "colab": {
          "base_uri": "https://localhost:8080/"
        },
        "id": "4Pq3eaA13NJN",
        "outputId": "af55ba89-9427-454b-deac-704128a2b18c"
      },
      "execution_count": 3,
      "outputs": [
        {
          "output_type": "stream",
          "name": "stdout",
          "text": [
            "2\n",
            "[2, 2, 2, 3]\n"
          ]
        }
      ]
    },
    {
      "cell_type": "code",
      "source": [
        "\n",
        "# 💡 **Q3.** Given a sorted array of distinct integers and a target value, return the index if the target is found. If not, return the index where it would be if it were inserted in order.\n",
        "\n",
        "# You must write an algorithm with O(log n) runtime complexity.\n",
        "\n",
        "# **Example 1:**\n",
        "# Input: nums = [1,3,5,6], target = 5\n",
        "\n",
        "# Output: 2\n",
        "\n",
        "\n",
        "def searchInsert(nums, target):\n",
        "    left = 0\n",
        "    right = len(nums) - 1\n",
        "\n",
        "    while left <= right:\n",
        "        mid = left + (right - left) // 2  # Calculate the middle index\n",
        "\n",
        "        if nums[mid] == target:\n",
        "            return mid\n",
        "        elif nums[mid] < target:\n",
        "            left = mid + 1\n",
        "        else:\n",
        "            right = mid - 1\n",
        "\n",
        "    return left  # If the target is not found, return the left pointer as the insertion index\n",
        "\n",
        "# Test the function\n",
        "nums = [1, 3, 5, 6]\n",
        "target = 5\n",
        "result = searchInsert(nums, target)\n",
        "print(result)  \n"
      ],
      "metadata": {
        "colab": {
          "base_uri": "https://localhost:8080/"
        },
        "id": "lajtwNjQ5mvl",
        "outputId": "1eca06d3-1902-4132-f19e-90dc8591b5d4"
      },
      "execution_count": 6,
      "outputs": [
        {
          "output_type": "stream",
          "name": "stdout",
          "text": [
            "2\n"
          ]
        }
      ]
    },
    {
      "cell_type": "code",
      "source": [
        "\n",
        "# 💡 **Q4.** You are given a large integer represented as an integer array digits, where each digits[i] is the ith digit of the integer. The digits are ordered from most significant to least significant in left-to-right order. The large integer does not contain any leading 0's.\n",
        "\n",
        "# Increment the large integer by one and return the resulting array of digits.\n",
        "\n",
        "# **Example 1:**\n",
        "# Input: digits = [1,2,3]\n",
        "# Output: [1,2,4]\n",
        "\n",
        "# **Explanation:** The array represents the integer 123.\n",
        "\n",
        "# Incrementing by one gives 123 + 1 = 124.\n",
        "# Thus, the result should be [1,2,4].\n",
        "\n",
        "\n",
        "def plusOne(digits):\n",
        "    n = len(digits)\n",
        "    carry = 1  # Initialize the carry as 1 since we want to increment the number by one\n",
        "\n",
        "    # Iterate through the digits from right to left\n",
        "    for i in range(n - 1, -1, -1):\n",
        "        total = digits[i] + carry\n",
        "        digits[i] = total % 10  # Update the current digit\n",
        "        carry = total // 10  # Update the carry\n",
        "\n",
        "    # If there is a remaining carry after iterating through all the digits,\n",
        "    # insert it as a new digit at the beginning of the array\n",
        "    if carry > 0:\n",
        "        digits.insert(0, carry)\n",
        "\n",
        "    return digits\n",
        "\n",
        "# Test the function\n",
        "digits = [1, 2, 3]\n",
        "result = plusOne(digits)\n",
        "print(result) \n"
      ],
      "metadata": {
        "colab": {
          "base_uri": "https://localhost:8080/"
        },
        "id": "At5UXHjR6JVK",
        "outputId": "86a94cf8-8c68-4123-b297-6cc441378cf0"
      },
      "execution_count": 8,
      "outputs": [
        {
          "output_type": "stream",
          "name": "stdout",
          "text": [
            "[1, 2, 4]\n"
          ]
        }
      ]
    },
    {
      "cell_type": "code",
      "source": [
        "\n",
        "# 💡 **Q5.** You are given two integer arrays nums1 and nums2, sorted in non-decreasing order, and two integers m and n, representing the number of elements in nums1 and nums2 respectively.\n",
        "\n",
        "# Merge nums1 and nums2 into a single array sorted in non-decreasing order.\n",
        "\n",
        "# The final sorted array should not be returned by the function, but instead be stored inside the array nums1. To accommodate this, nums1 has a length of m + n, where the first m elements denote the elements that should be merged, and the last n elements are set to 0 and should be ignored. nums2 has a length of n.\n",
        "\n",
        "# **Example 1:**\n",
        "# Input: nums1 = [1,2,3,0,0,0], m = 3, nums2 = [2,5,6], n = 3\n",
        "# Output: [1,2,2,3,5,6]\n",
        "\n",
        "# **Explanation:** The arrays we are merging are [1,2,3] and [2,5,6].\n",
        "# The result of the merge is [1,2,2,3,5,6] with the underlined elements coming from nums1.\n",
        "\n",
        "\n",
        "def merge(nums1, m, nums2, n):\n",
        "    # Initialize two pointers for nums1 and nums2\n",
        "    p1 = m - 1\n",
        "    p2 = n - 1\n",
        "\n",
        "    # Initialize a pointer for the merged array\n",
        "    p = m + n - 1\n",
        "\n",
        "    # Iterate until both pointers for nums1 and nums2 have elements\n",
        "    while p1 >= 0 and p2 >= 0:\n",
        "        # Compare the elements at the pointers and place the larger one in the merged array\n",
        "        if nums1[p1] > nums2[p2]:\n",
        "            nums1[p] = nums1[p1]\n",
        "            p1 -= 1\n",
        "        else:\n",
        "            nums1[p] = nums2[p2]\n",
        "            p2 -= 1\n",
        "        p -= 1\n",
        "\n",
        "    # If there are remaining elements in nums2, copy them to the merged array\n",
        "    nums1[:p2 + 1] = nums2[:p2 + 1]\n",
        "\n",
        "    return nums1\n",
        "\n",
        "# Test the function\n",
        "nums1 = [1, 2, 3, 0, 0, 0]\n",
        "m = 3\n",
        "nums2 = [2, 5, 6]\n",
        "n = 3\n",
        "result = merge(nums1, m, nums2, n)\n",
        "print(result)  \n"
      ],
      "metadata": {
        "colab": {
          "base_uri": "https://localhost:8080/"
        },
        "id": "IrGW2s5j64HU",
        "outputId": "d8db29eb-5054-4b63-b266-f2d082436efb"
      },
      "execution_count": 9,
      "outputs": [
        {
          "output_type": "stream",
          "name": "stdout",
          "text": [
            "[1, 2, 2, 3, 5, 6]\n"
          ]
        }
      ]
    },
    {
      "cell_type": "code",
      "source": [
        "\n",
        "# 💡 **Q6.** Given an integer array nums, return true if any value appears at least twice in the array, and return false if every element is distinct.\n",
        "\n",
        "# **Example 1:**\n",
        "# Input: nums = [1,2,3,1]\n",
        "\n",
        "# Output: true\n",
        "\n",
        "\n",
        "def containsDuplicate(nums):\n",
        "    seen = set()\n",
        "\n",
        "    for num in nums:\n",
        "        if num in seen:\n",
        "            return True\n",
        "        seen.add(num)\n",
        "\n",
        "    return False\n",
        "\n",
        "# Test the function\n",
        "nums = [1, 2, 3, 1]\n",
        "result = containsDuplicate(nums)\n",
        "print(result)  \n"
      ],
      "metadata": {
        "colab": {
          "base_uri": "https://localhost:8080/"
        },
        "id": "TBYfksh27H4r",
        "outputId": "11f7a16a-4813-49e2-ed09-5143a1af0216"
      },
      "execution_count": 10,
      "outputs": [
        {
          "output_type": "stream",
          "name": "stdout",
          "text": [
            "True\n"
          ]
        }
      ]
    },
    {
      "cell_type": "code",
      "source": [
        "\n",
        "# 💡 **Q7.** Given an integer array nums, move all 0's to the end of it while maintaining the relative order of the nonzero elements.\n",
        "\n",
        "# Note that you must do this in-place without making a copy of the array.\n",
        "\n",
        "# **Example 1:**\n",
        "# Input: nums = [0,1,0,3,12]\n",
        "# Output: [1,3,12,0,0]\n",
        "\n",
        "\n",
        "def moveZeroes(nums):\n",
        "    n = len(nums)\n",
        "    i = 0\n",
        "\n",
        "    # Traverse the array\n",
        "    for j in range(n):\n",
        "        if nums[j] != 0:\n",
        "            # Swap nonzero element with the current position i\n",
        "            nums[i], nums[j] = nums[j], nums[i]\n",
        "            i += 1\n",
        "\n",
        "    return nums\n",
        "\n",
        "# Test the function\n",
        "nums = [0, 1, 0, 3, 12]\n",
        "result = moveZeroes(nums)\n",
        "print(result)  \n"
      ],
      "metadata": {
        "colab": {
          "base_uri": "https://localhost:8080/"
        },
        "id": "Fc7mtMYe7gu6",
        "outputId": "a7884fe4-a61f-4b20-fbd3-dc9fce576877"
      },
      "execution_count": 11,
      "outputs": [
        {
          "output_type": "stream",
          "name": "stdout",
          "text": [
            "[1, 3, 12, 0, 0]\n"
          ]
        }
      ]
    },
    {
      "cell_type": "code",
      "source": [
        "\n",
        "# 💡 **Q8.** You have a set of integers s, which originally contains all the numbers from 1 to n. Unfortunately, due to some error, one of the numbers in s got duplicated to another number in the set, which results in repetition of one number and loss of another number.\n",
        "\n",
        "# You are given an integer array nums representing the data status of this set after the error.\n",
        "\n",
        "# Find the number that occurs twice and the number that is missing and return them in the form of an array.\n",
        "\n",
        "# **Example 1:**\n",
        "# Input: nums = [1,2,2,4]\n",
        "# Output: [2,3]\n",
        "\n",
        "\n",
        "def findErrorNums(nums):\n",
        "    n = len(nums)\n",
        "    num_set = set()\n",
        "    duplicate = -1\n",
        "    total_sum = (n * (n + 1)) // 2\n",
        "\n",
        "    for num in nums:\n",
        "        if num in num_set:\n",
        "            duplicate = num\n",
        "        num_set.add(num)\n",
        "        total_sum -= num\n",
        "\n",
        "    missing = total_sum + duplicate\n",
        "\n",
        "    return [duplicate, missing]\n",
        "\n",
        "# Test the function\n",
        "nums = [1, 2, 2, 4]\n",
        "result = findErrorNums(nums)\n",
        "print(result) \n"
      ],
      "metadata": {
        "colab": {
          "base_uri": "https://localhost:8080/"
        },
        "id": "OlNYHLpU8GNk",
        "outputId": "91b7ae3e-75fa-467d-be78-5d2f2e5c0fcf"
      },
      "execution_count": 12,
      "outputs": [
        {
          "output_type": "stream",
          "name": "stdout",
          "text": [
            "[2, 3]\n"
          ]
        }
      ]
    }
  ]
}